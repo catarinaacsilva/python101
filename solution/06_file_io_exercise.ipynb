{
 "cells": [
  {
   "cell_type": "code",
   "execution_count": 9,
   "metadata": {
    "editable": false
   },
   "outputs": [],
   "source": [
    "# EXECUTE THIS ONE FIRST!\n",
    "\n",
    "import os\n",
    "\n",
    "# Constants for the exercises:\n",
    "WORKING_DIR = os.getcwd()\n",
    "DATA_DIR = os.path.join(os.path.dirname(WORKING_DIR), 'data')"
   ]
  },
  {
   "cell_type": "markdown",
   "metadata": {},
   "source": [
    "# 1. Reading first word from each line of a file\n",
    "Implement `find_first_words` function which takes an input file path as argument. The function should find the first word of each line in the file and return these words as a list. If a line is empty, the returned list should contain an empty string for that line."
   ]
  },
  {
   "cell_type": "code",
   "execution_count": 19,
   "metadata": {},
   "outputs": [
    {
     "name": "stdout",
     "output_type": "stream",
     "text": [
      "['First', 'Second', 'Third', 'And']\n"
     ]
    }
   ],
   "source": [
    "# Your implementation here\n",
    "def find_first_words(file_name):\n",
    "    words = []\n",
    "    \n",
    "    with open(file_name, 'r') as simple_file:\n",
    "        for line in simple_file:\n",
    "            words.append(line.split()[0])\n",
    "    simple_file.close()\n",
    "    print(words)\n",
    "\n",
    "file_name = os.path.join(DATA_DIR, 'simple_file.txt')\n",
    "find_first_words(file_name)"
   ]
  },
  {
   "cell_type": "code",
   "execution_count": 18,
   "metadata": {},
   "outputs": [
    {
     "name": "stdout",
     "output_type": "stream",
     "text": [
      "['First', 'Second', 'Third', 'And']\n"
     ]
    },
    {
     "ename": "AssertionError",
     "evalue": "",
     "output_type": "error",
     "traceback": [
      "\u001b[0;31m---------------------------------------------------------------------------\u001b[0m",
      "\u001b[0;31mAssertionError\u001b[0m                            Traceback (most recent call last)",
      "\u001b[0;32m/tmp/ipykernel_13916/3380957035.py\u001b[0m in \u001b[0;36m<module>\u001b[0;34m\u001b[0m\n\u001b[1;32m      2\u001b[0m \u001b[0;34m\u001b[0m\u001b[0m\n\u001b[1;32m      3\u001b[0m \u001b[0mexpected_file_1\u001b[0m \u001b[0;34m=\u001b[0m \u001b[0;34m[\u001b[0m\u001b[0;34m'First'\u001b[0m\u001b[0;34m,\u001b[0m \u001b[0;34m'Second'\u001b[0m\u001b[0;34m,\u001b[0m \u001b[0;34m'Third'\u001b[0m\u001b[0;34m,\u001b[0m \u001b[0;34m'And'\u001b[0m\u001b[0;34m]\u001b[0m\u001b[0;34m\u001b[0m\u001b[0;34m\u001b[0m\u001b[0m\n\u001b[0;32m----> 4\u001b[0;31m \u001b[0;32massert\u001b[0m \u001b[0mfind_first_words\u001b[0m\u001b[0;34m(\u001b[0m\u001b[0min_file1\u001b[0m\u001b[0;34m)\u001b[0m \u001b[0;34m==\u001b[0m \u001b[0mexpected_file_1\u001b[0m\u001b[0;34m\u001b[0m\u001b[0;34m\u001b[0m\u001b[0m\n\u001b[0m",
      "\u001b[0;31mAssertionError\u001b[0m: "
     ]
    }
   ],
   "source": [
    "in_file1 = os.path.join(DATA_DIR, 'simple_file.txt')\n",
    "\n",
    "expected_file_1 = ['First', 'Second', 'Third', 'And']\n",
    "assert find_first_words(in_file1) == expected_file_1"
   ]
  }
 ],
 "metadata": {
  "celltoolbar": "Edit Metadata",
  "kernelspec": {
   "display_name": "Python 3 (ipykernel)",
   "language": "python",
   "name": "python3"
  },
  "language_info": {
   "codemirror_mode": {
    "name": "ipython",
    "version": 3
   },
   "file_extension": ".py",
   "mimetype": "text/x-python",
   "name": "python",
   "nbconvert_exporter": "python",
   "pygments_lexer": "ipython3",
   "version": "3.8.10"
  }
 },
 "nbformat": 4,
 "nbformat_minor": 2
}
